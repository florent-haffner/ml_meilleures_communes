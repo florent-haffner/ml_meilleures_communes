{
 "cells": [
  {
   "cell_type": "code",
   "execution_count": 1,
   "id": "50bea89e-d0fd-4b7e-88b2-7d593013bc61",
   "metadata": {},
   "outputs": [],
   "source": [
    "import numpy as np\n",
    "np.set_printoptions(threshold=10000,suppress=True)\n",
    "import pandas as pd\n",
    "import warnings\n",
    "import matplotlib.pyplot as plt"
   ]
  },
  {
   "cell_type": "code",
   "execution_count": 2,
   "id": "c3f5c8d7-8dfd-4708-93e8-be9386a39fcb",
   "metadata": {},
   "outputs": [
    {
     "data": {
      "text/html": [
       "<div>\n",
       "<style scoped>\n",
       "    .dataframe tbody tr th:only-of-type {\n",
       "        vertical-align: middle;\n",
       "    }\n",
       "\n",
       "    .dataframe tbody tr th {\n",
       "        vertical-align: top;\n",
       "    }\n",
       "\n",
       "    .dataframe thead th {\n",
       "        text-align: right;\n",
       "    }\n",
       "</style>\n",
       "<table border=\"1\" class=\"dataframe\">\n",
       "  <thead>\n",
       "    <tr style=\"text-align: right;\">\n",
       "      <th></th>\n",
       "      <th>Insee</th>\n",
       "      <th>Code_postal</th>\n",
       "      <th>Ville</th>\n",
       "      <th>Nb_habitants</th>\n",
       "      <th>Superficie</th>\n",
       "      <th>Pop_densite</th>\n",
       "      <th>Pop_active</th>\n",
       "      <th>Taux_chomage</th>\n",
       "      <th>Revenu_moyen</th>\n",
       "      <th>Prix_moyen</th>\n",
       "      <th>...</th>\n",
       "      <th>Pharmacie</th>\n",
       "      <th>Maternelle</th>\n",
       "      <th>Primaire</th>\n",
       "      <th>Collège</th>\n",
       "      <th>Lycée</th>\n",
       "      <th>Securite</th>\n",
       "      <th>Education</th>\n",
       "      <th>Loisir / Sport</th>\n",
       "      <th>Environnement</th>\n",
       "      <th>Pratique</th>\n",
       "    </tr>\n",
       "  </thead>\n",
       "  <tbody>\n",
       "    <tr>\n",
       "      <th>0</th>\n",
       "      <td>1001</td>\n",
       "      <td>1400</td>\n",
       "      <td>L'Abergement-Clémenciat</td>\n",
       "      <td>767</td>\n",
       "      <td>16 km²</td>\n",
       "      <td>48 h/km²</td>\n",
       "      <td>49%</td>\n",
       "      <td>4.3%</td>\n",
       "      <td>22 228 €/an</td>\n",
       "      <td>1 938 €</td>\n",
       "      <td>...</td>\n",
       "      <td>0</td>\n",
       "      <td>1</td>\n",
       "      <td>1</td>\n",
       "      <td>0</td>\n",
       "      <td>0</td>\n",
       "      <td>NaN</td>\n",
       "      <td>NaN</td>\n",
       "      <td>NaN</td>\n",
       "      <td>NaN</td>\n",
       "      <td>NaN</td>\n",
       "    </tr>\n",
       "    <tr>\n",
       "      <th>1</th>\n",
       "      <td>1002</td>\n",
       "      <td>1640</td>\n",
       "      <td>L'Abergement-de-Varey</td>\n",
       "      <td>241</td>\n",
       "      <td>9 km²</td>\n",
       "      <td>27 h/km²</td>\n",
       "      <td>50.6%</td>\n",
       "      <td>4.1%</td>\n",
       "      <td>22 883 €/an</td>\n",
       "      <td>1 130 €</td>\n",
       "      <td>...</td>\n",
       "      <td>0</td>\n",
       "      <td>0</td>\n",
       "      <td>0</td>\n",
       "      <td>0</td>\n",
       "      <td>0</td>\n",
       "      <td>NaN</td>\n",
       "      <td>NaN</td>\n",
       "      <td>NaN</td>\n",
       "      <td>NaN</td>\n",
       "      <td>NaN</td>\n",
       "    </tr>\n",
       "    <tr>\n",
       "      <th>2</th>\n",
       "      <td>1004</td>\n",
       "      <td>1500</td>\n",
       "      <td>Ambérieu-en-Bugey</td>\n",
       "      <td>14 127</td>\n",
       "      <td>25 km²</td>\n",
       "      <td>565 h/km²</td>\n",
       "      <td>47.5%</td>\n",
       "      <td>7.5%</td>\n",
       "      <td>19 735 €/an</td>\n",
       "      <td>2 005 €</td>\n",
       "      <td>...</td>\n",
       "      <td>6</td>\n",
       "      <td>5</td>\n",
       "      <td>4</td>\n",
       "      <td>2</td>\n",
       "      <td>2</td>\n",
       "      <td>4.0</td>\n",
       "      <td>3.8</td>\n",
       "      <td>3.8</td>\n",
       "      <td>4.0</td>\n",
       "      <td>3.3</td>\n",
       "    </tr>\n",
       "    <tr>\n",
       "      <th>3</th>\n",
       "      <td>1005</td>\n",
       "      <td>1330</td>\n",
       "      <td>Ambérieux-en-Dombes</td>\n",
       "      <td>1 619</td>\n",
       "      <td>16 km²</td>\n",
       "      <td>101 h/km²</td>\n",
       "      <td>51.8%</td>\n",
       "      <td>4.1%</td>\n",
       "      <td>23 183 €/an</td>\n",
       "      <td>2 442 €</td>\n",
       "      <td>...</td>\n",
       "      <td>1</td>\n",
       "      <td>1</td>\n",
       "      <td>1</td>\n",
       "      <td>0</td>\n",
       "      <td>0</td>\n",
       "      <td>5.0</td>\n",
       "      <td>5.0</td>\n",
       "      <td>3.0</td>\n",
       "      <td>3.0</td>\n",
       "      <td>3.0</td>\n",
       "    </tr>\n",
       "    <tr>\n",
       "      <th>4</th>\n",
       "      <td>1006</td>\n",
       "      <td>1300</td>\n",
       "      <td>Ambléon</td>\n",
       "      <td>109</td>\n",
       "      <td>6 km²</td>\n",
       "      <td>18 h/km²</td>\n",
       "      <td>52.3%</td>\n",
       "      <td>7.3%</td>\n",
       "      <td>NC</td>\n",
       "      <td>1 155 €</td>\n",
       "      <td>...</td>\n",
       "      <td>0</td>\n",
       "      <td>0</td>\n",
       "      <td>0</td>\n",
       "      <td>0</td>\n",
       "      <td>0</td>\n",
       "      <td>NaN</td>\n",
       "      <td>NaN</td>\n",
       "      <td>NaN</td>\n",
       "      <td>NaN</td>\n",
       "      <td>NaN</td>\n",
       "    </tr>\n",
       "    <tr>\n",
       "      <th>...</th>\n",
       "      <td>...</td>\n",
       "      <td>...</td>\n",
       "      <td>...</td>\n",
       "      <td>...</td>\n",
       "      <td>...</td>\n",
       "      <td>...</td>\n",
       "      <td>...</td>\n",
       "      <td>...</td>\n",
       "      <td>...</td>\n",
       "      <td>...</td>\n",
       "      <td>...</td>\n",
       "      <td>...</td>\n",
       "      <td>...</td>\n",
       "      <td>...</td>\n",
       "      <td>...</td>\n",
       "      <td>...</td>\n",
       "      <td>...</td>\n",
       "      <td>...</td>\n",
       "      <td>...</td>\n",
       "      <td>...</td>\n",
       "      <td>...</td>\n",
       "    </tr>\n",
       "    <tr>\n",
       "      <th>33656</th>\n",
       "      <td>95676</td>\n",
       "      <td>95510</td>\n",
       "      <td>Villers-en-Arthies</td>\n",
       "      <td>508</td>\n",
       "      <td>8 km²</td>\n",
       "      <td>64 h/km²</td>\n",
       "      <td>51%</td>\n",
       "      <td>4.1%</td>\n",
       "      <td>26 675 €/an</td>\n",
       "      <td>2 150 €</td>\n",
       "      <td>...</td>\n",
       "      <td>0</td>\n",
       "      <td>0</td>\n",
       "      <td>1</td>\n",
       "      <td>0</td>\n",
       "      <td>0</td>\n",
       "      <td>NaN</td>\n",
       "      <td>NaN</td>\n",
       "      <td>NaN</td>\n",
       "      <td>NaN</td>\n",
       "      <td>NaN</td>\n",
       "    </tr>\n",
       "    <tr>\n",
       "      <th>33657</th>\n",
       "      <td>95678</td>\n",
       "      <td>95840</td>\n",
       "      <td>Villiers-Adam</td>\n",
       "      <td>851</td>\n",
       "      <td>10 km²</td>\n",
       "      <td>85 h/km²</td>\n",
       "      <td>47.7%</td>\n",
       "      <td>4.1%</td>\n",
       "      <td>28 405 €/an</td>\n",
       "      <td>3 343 €</td>\n",
       "      <td>...</td>\n",
       "      <td>0</td>\n",
       "      <td>1</td>\n",
       "      <td>1</td>\n",
       "      <td>0</td>\n",
       "      <td>0</td>\n",
       "      <td>4.0</td>\n",
       "      <td>4.0</td>\n",
       "      <td>3.0</td>\n",
       "      <td>4.0</td>\n",
       "      <td>3.5</td>\n",
       "    </tr>\n",
       "    <tr>\n",
       "      <th>33658</th>\n",
       "      <td>95680</td>\n",
       "      <td>95400</td>\n",
       "      <td>Villiers-le-Bel</td>\n",
       "      <td>27 564</td>\n",
       "      <td>7 km²</td>\n",
       "      <td>3 938 h/km²</td>\n",
       "      <td>43.9%</td>\n",
       "      <td>9.6%</td>\n",
       "      <td>14 323 €/an</td>\n",
       "      <td>2 449 €</td>\n",
       "      <td>...</td>\n",
       "      <td>9</td>\n",
       "      <td>12</td>\n",
       "      <td>12</td>\n",
       "      <td>5</td>\n",
       "      <td>2</td>\n",
       "      <td>1.8</td>\n",
       "      <td>2.3</td>\n",
       "      <td>3.6</td>\n",
       "      <td>2.0</td>\n",
       "      <td>3.0</td>\n",
       "    </tr>\n",
       "    <tr>\n",
       "      <th>33659</th>\n",
       "      <td>95682</td>\n",
       "      <td>95720</td>\n",
       "      <td>Villiers-le-Sec</td>\n",
       "      <td>179</td>\n",
       "      <td>3 km²</td>\n",
       "      <td>60 h/km²</td>\n",
       "      <td>55.3%</td>\n",
       "      <td>6.7%</td>\n",
       "      <td>25 444 €/an</td>\n",
       "      <td>2 741 €</td>\n",
       "      <td>...</td>\n",
       "      <td>0</td>\n",
       "      <td>0</td>\n",
       "      <td>0</td>\n",
       "      <td>0</td>\n",
       "      <td>0</td>\n",
       "      <td>NaN</td>\n",
       "      <td>NaN</td>\n",
       "      <td>NaN</td>\n",
       "      <td>NaN</td>\n",
       "      <td>NaN</td>\n",
       "    </tr>\n",
       "    <tr>\n",
       "      <th>33660</th>\n",
       "      <td>95690</td>\n",
       "      <td>95420</td>\n",
       "      <td>Wy-dit-Joli-Village</td>\n",
       "      <td>326</td>\n",
       "      <td>8 km²</td>\n",
       "      <td>41 h/km²</td>\n",
       "      <td>54.6%</td>\n",
       "      <td>2.5%</td>\n",
       "      <td>28 514 €/an</td>\n",
       "      <td>2 674 €</td>\n",
       "      <td>...</td>\n",
       "      <td>0</td>\n",
       "      <td>0</td>\n",
       "      <td>1</td>\n",
       "      <td>0</td>\n",
       "      <td>0</td>\n",
       "      <td>NaN</td>\n",
       "      <td>NaN</td>\n",
       "      <td>NaN</td>\n",
       "      <td>NaN</td>\n",
       "      <td>NaN</td>\n",
       "    </tr>\n",
       "  </tbody>\n",
       "</table>\n",
       "<p>33661 rows × 48 columns</p>\n",
       "</div>"
      ],
      "text/plain": [
       "       Insee  Code_postal                    Ville Nb_habitants Superficie  \\\n",
       "0       1001         1400  L'Abergement-Clémenciat          767     16 km²   \n",
       "1       1002         1640    L'Abergement-de-Varey          241      9 km²   \n",
       "2       1004         1500        Ambérieu-en-Bugey       14 127     25 km²   \n",
       "3       1005         1330      Ambérieux-en-Dombes        1 619     16 km²   \n",
       "4       1006         1300                  Ambléon          109      6 km²   \n",
       "...      ...          ...                      ...          ...        ...   \n",
       "33656  95676        95510       Villers-en-Arthies          508      8 km²   \n",
       "33657  95678        95840            Villiers-Adam          851     10 km²   \n",
       "33658  95680        95400          Villiers-le-Bel       27 564      7 km²   \n",
       "33659  95682        95720          Villiers-le-Sec          179      3 km²   \n",
       "33660  95690        95420      Wy-dit-Joli-Village          326      8 km²   \n",
       "\n",
       "       Pop_densite Pop_active Taux_chomage Revenu_moyen Prix_moyen  ...  \\\n",
       "0         48 h/km²        49%         4.3%  22 228 €/an    1 938 €  ...   \n",
       "1         27 h/km²      50.6%         4.1%  22 883 €/an    1 130 €  ...   \n",
       "2        565 h/km²      47.5%         7.5%  19 735 €/an    2 005 €  ...   \n",
       "3        101 h/km²      51.8%         4.1%  23 183 €/an    2 442 €  ...   \n",
       "4         18 h/km²      52.3%         7.3%           NC    1 155 €  ...   \n",
       "...            ...        ...          ...          ...        ...  ...   \n",
       "33656     64 h/km²        51%         4.1%  26 675 €/an    2 150 €  ...   \n",
       "33657     85 h/km²      47.7%         4.1%  28 405 €/an    3 343 €  ...   \n",
       "33658  3 938 h/km²      43.9%         9.6%  14 323 €/an    2 449 €  ...   \n",
       "33659     60 h/km²      55.3%         6.7%  25 444 €/an    2 741 €  ...   \n",
       "33660     41 h/km²      54.6%         2.5%  28 514 €/an    2 674 €  ...   \n",
       "\n",
       "       Pharmacie  Maternelle  Primaire  Collège  Lycée  Securite  Education  \\\n",
       "0              0           1         1        0      0       NaN        NaN   \n",
       "1              0           0         0        0      0       NaN        NaN   \n",
       "2              6           5         4        2      2       4.0        3.8   \n",
       "3              1           1         1        0      0       5.0        5.0   \n",
       "4              0           0         0        0      0       NaN        NaN   \n",
       "...          ...         ...       ...      ...    ...       ...        ...   \n",
       "33656          0           0         1        0      0       NaN        NaN   \n",
       "33657          0           1         1        0      0       4.0        4.0   \n",
       "33658          9          12        12        5      2       1.8        2.3   \n",
       "33659          0           0         0        0      0       NaN        NaN   \n",
       "33660          0           0         1        0      0       NaN        NaN   \n",
       "\n",
       "       Loisir / Sport  Environnement  Pratique  \n",
       "0                 NaN            NaN       NaN  \n",
       "1                 NaN            NaN       NaN  \n",
       "2                 3.8            4.0       3.3  \n",
       "3                 3.0            3.0       3.0  \n",
       "4                 NaN            NaN       NaN  \n",
       "...               ...            ...       ...  \n",
       "33656             NaN            NaN       NaN  \n",
       "33657             3.0            4.0       3.5  \n",
       "33658             3.6            2.0       3.0  \n",
       "33659             NaN            NaN       NaN  \n",
       "33660             NaN            NaN       NaN  \n",
       "\n",
       "[33661 rows x 48 columns]"
      ]
     },
     "execution_count": 2,
     "metadata": {},
     "output_type": "execute_result"
    }
   ],
   "source": [
    "data = pd.read_excel('../../Resources/donneeSite.xlsx')\n",
    "data"
   ]
  },
  {
   "cell_type": "markdown",
   "id": "f00f388c-d1b9-44d2-9e29-a833fcb12166",
   "metadata": {},
   "source": [
    "# Formattage des données"
   ]
  },
  {
   "cell_type": "markdown",
   "id": "4f0be33d-3093-4139-8245-890ad569d4cc",
   "metadata": {},
   "source": [
    "Certaines villes ont des valeurs qui n'ont pas été renseignées sur le site, On va donc retirer ces données (~ 3000 villes, soit ~15% du jeu de donnée)"
   ]
  },
  {
   "cell_type": "code",
   "execution_count": 3,
   "id": "e5ae76fd-1e01-4265-a16c-33272b6434b3",
   "metadata": {},
   "outputs": [
    {
     "data": {
      "text/html": [
       "<div>\n",
       "<style scoped>\n",
       "    .dataframe tbody tr th:only-of-type {\n",
       "        vertical-align: middle;\n",
       "    }\n",
       "\n",
       "    .dataframe tbody tr th {\n",
       "        vertical-align: top;\n",
       "    }\n",
       "\n",
       "    .dataframe thead th {\n",
       "        text-align: right;\n",
       "    }\n",
       "</style>\n",
       "<table border=\"1\" class=\"dataframe\">\n",
       "  <thead>\n",
       "    <tr style=\"text-align: right;\">\n",
       "      <th></th>\n",
       "      <th>Insee</th>\n",
       "      <th>Code_postal</th>\n",
       "      <th>Ville</th>\n",
       "      <th>Nb_habitants</th>\n",
       "      <th>Superficie</th>\n",
       "      <th>Pop_densite</th>\n",
       "      <th>Pop_active</th>\n",
       "      <th>Taux_chomage</th>\n",
       "      <th>Revenu_moyen</th>\n",
       "      <th>Prix_moyen</th>\n",
       "      <th>...</th>\n",
       "      <th>Pharmacie</th>\n",
       "      <th>Maternelle</th>\n",
       "      <th>Primaire</th>\n",
       "      <th>Collège</th>\n",
       "      <th>Lycée</th>\n",
       "      <th>Securite</th>\n",
       "      <th>Education</th>\n",
       "      <th>Loisir / Sport</th>\n",
       "      <th>Environnement</th>\n",
       "      <th>Pratique</th>\n",
       "    </tr>\n",
       "  </thead>\n",
       "  <tbody>\n",
       "    <tr>\n",
       "      <th>0</th>\n",
       "      <td>1001</td>\n",
       "      <td>1400</td>\n",
       "      <td>L'Abergement-Clémenciat</td>\n",
       "      <td>767</td>\n",
       "      <td>16 km²</td>\n",
       "      <td>48 h/km²</td>\n",
       "      <td>49%</td>\n",
       "      <td>4.3%</td>\n",
       "      <td>22 228 €/an</td>\n",
       "      <td>1 938 €</td>\n",
       "      <td>...</td>\n",
       "      <td>0</td>\n",
       "      <td>1</td>\n",
       "      <td>1</td>\n",
       "      <td>0</td>\n",
       "      <td>0</td>\n",
       "      <td>NaN</td>\n",
       "      <td>NaN</td>\n",
       "      <td>NaN</td>\n",
       "      <td>NaN</td>\n",
       "      <td>NaN</td>\n",
       "    </tr>\n",
       "    <tr>\n",
       "      <th>1</th>\n",
       "      <td>1002</td>\n",
       "      <td>1640</td>\n",
       "      <td>L'Abergement-de-Varey</td>\n",
       "      <td>241</td>\n",
       "      <td>9 km²</td>\n",
       "      <td>27 h/km²</td>\n",
       "      <td>50.6%</td>\n",
       "      <td>4.1%</td>\n",
       "      <td>22 883 €/an</td>\n",
       "      <td>1 130 €</td>\n",
       "      <td>...</td>\n",
       "      <td>0</td>\n",
       "      <td>0</td>\n",
       "      <td>0</td>\n",
       "      <td>0</td>\n",
       "      <td>0</td>\n",
       "      <td>NaN</td>\n",
       "      <td>NaN</td>\n",
       "      <td>NaN</td>\n",
       "      <td>NaN</td>\n",
       "      <td>NaN</td>\n",
       "    </tr>\n",
       "    <tr>\n",
       "      <th>2</th>\n",
       "      <td>1004</td>\n",
       "      <td>1500</td>\n",
       "      <td>Ambérieu-en-Bugey</td>\n",
       "      <td>14 127</td>\n",
       "      <td>25 km²</td>\n",
       "      <td>565 h/km²</td>\n",
       "      <td>47.5%</td>\n",
       "      <td>7.5%</td>\n",
       "      <td>19 735 €/an</td>\n",
       "      <td>2 005 €</td>\n",
       "      <td>...</td>\n",
       "      <td>6</td>\n",
       "      <td>5</td>\n",
       "      <td>4</td>\n",
       "      <td>2</td>\n",
       "      <td>2</td>\n",
       "      <td>4.0</td>\n",
       "      <td>3.8</td>\n",
       "      <td>3.8</td>\n",
       "      <td>4.0</td>\n",
       "      <td>3.3</td>\n",
       "    </tr>\n",
       "    <tr>\n",
       "      <th>3</th>\n",
       "      <td>1005</td>\n",
       "      <td>1330</td>\n",
       "      <td>Ambérieux-en-Dombes</td>\n",
       "      <td>1 619</td>\n",
       "      <td>16 km²</td>\n",
       "      <td>101 h/km²</td>\n",
       "      <td>51.8%</td>\n",
       "      <td>4.1%</td>\n",
       "      <td>23 183 €/an</td>\n",
       "      <td>2 442 €</td>\n",
       "      <td>...</td>\n",
       "      <td>1</td>\n",
       "      <td>1</td>\n",
       "      <td>1</td>\n",
       "      <td>0</td>\n",
       "      <td>0</td>\n",
       "      <td>5.0</td>\n",
       "      <td>5.0</td>\n",
       "      <td>3.0</td>\n",
       "      <td>3.0</td>\n",
       "      <td>3.0</td>\n",
       "    </tr>\n",
       "    <tr>\n",
       "      <th>5</th>\n",
       "      <td>1007</td>\n",
       "      <td>1500</td>\n",
       "      <td>Ambronay</td>\n",
       "      <td>2 615</td>\n",
       "      <td>34 km²</td>\n",
       "      <td>77 h/km²</td>\n",
       "      <td>49.3%</td>\n",
       "      <td>4.2%</td>\n",
       "      <td>21 987 €/an</td>\n",
       "      <td>1 963 €</td>\n",
       "      <td>...</td>\n",
       "      <td>1</td>\n",
       "      <td>1</td>\n",
       "      <td>1</td>\n",
       "      <td>0</td>\n",
       "      <td>0</td>\n",
       "      <td>3.0</td>\n",
       "      <td>4.0</td>\n",
       "      <td>3.0</td>\n",
       "      <td>4.0</td>\n",
       "      <td>2.0</td>\n",
       "    </tr>\n",
       "    <tr>\n",
       "      <th>...</th>\n",
       "      <td>...</td>\n",
       "      <td>...</td>\n",
       "      <td>...</td>\n",
       "      <td>...</td>\n",
       "      <td>...</td>\n",
       "      <td>...</td>\n",
       "      <td>...</td>\n",
       "      <td>...</td>\n",
       "      <td>...</td>\n",
       "      <td>...</td>\n",
       "      <td>...</td>\n",
       "      <td>...</td>\n",
       "      <td>...</td>\n",
       "      <td>...</td>\n",
       "      <td>...</td>\n",
       "      <td>...</td>\n",
       "      <td>...</td>\n",
       "      <td>...</td>\n",
       "      <td>...</td>\n",
       "      <td>...</td>\n",
       "      <td>...</td>\n",
       "    </tr>\n",
       "    <tr>\n",
       "      <th>33656</th>\n",
       "      <td>95676</td>\n",
       "      <td>95510</td>\n",
       "      <td>Villers-en-Arthies</td>\n",
       "      <td>508</td>\n",
       "      <td>8 km²</td>\n",
       "      <td>64 h/km²</td>\n",
       "      <td>51%</td>\n",
       "      <td>4.1%</td>\n",
       "      <td>26 675 €/an</td>\n",
       "      <td>2 150 €</td>\n",
       "      <td>...</td>\n",
       "      <td>0</td>\n",
       "      <td>0</td>\n",
       "      <td>1</td>\n",
       "      <td>0</td>\n",
       "      <td>0</td>\n",
       "      <td>NaN</td>\n",
       "      <td>NaN</td>\n",
       "      <td>NaN</td>\n",
       "      <td>NaN</td>\n",
       "      <td>NaN</td>\n",
       "    </tr>\n",
       "    <tr>\n",
       "      <th>33657</th>\n",
       "      <td>95678</td>\n",
       "      <td>95840</td>\n",
       "      <td>Villiers-Adam</td>\n",
       "      <td>851</td>\n",
       "      <td>10 km²</td>\n",
       "      <td>85 h/km²</td>\n",
       "      <td>47.7%</td>\n",
       "      <td>4.1%</td>\n",
       "      <td>28 405 €/an</td>\n",
       "      <td>3 343 €</td>\n",
       "      <td>...</td>\n",
       "      <td>0</td>\n",
       "      <td>1</td>\n",
       "      <td>1</td>\n",
       "      <td>0</td>\n",
       "      <td>0</td>\n",
       "      <td>4.0</td>\n",
       "      <td>4.0</td>\n",
       "      <td>3.0</td>\n",
       "      <td>4.0</td>\n",
       "      <td>3.5</td>\n",
       "    </tr>\n",
       "    <tr>\n",
       "      <th>33658</th>\n",
       "      <td>95680</td>\n",
       "      <td>95400</td>\n",
       "      <td>Villiers-le-Bel</td>\n",
       "      <td>27 564</td>\n",
       "      <td>7 km²</td>\n",
       "      <td>3 938 h/km²</td>\n",
       "      <td>43.9%</td>\n",
       "      <td>9.6%</td>\n",
       "      <td>14 323 €/an</td>\n",
       "      <td>2 449 €</td>\n",
       "      <td>...</td>\n",
       "      <td>9</td>\n",
       "      <td>12</td>\n",
       "      <td>12</td>\n",
       "      <td>5</td>\n",
       "      <td>2</td>\n",
       "      <td>1.8</td>\n",
       "      <td>2.3</td>\n",
       "      <td>3.6</td>\n",
       "      <td>2.0</td>\n",
       "      <td>3.0</td>\n",
       "    </tr>\n",
       "    <tr>\n",
       "      <th>33659</th>\n",
       "      <td>95682</td>\n",
       "      <td>95720</td>\n",
       "      <td>Villiers-le-Sec</td>\n",
       "      <td>179</td>\n",
       "      <td>3 km²</td>\n",
       "      <td>60 h/km²</td>\n",
       "      <td>55.3%</td>\n",
       "      <td>6.7%</td>\n",
       "      <td>25 444 €/an</td>\n",
       "      <td>2 741 €</td>\n",
       "      <td>...</td>\n",
       "      <td>0</td>\n",
       "      <td>0</td>\n",
       "      <td>0</td>\n",
       "      <td>0</td>\n",
       "      <td>0</td>\n",
       "      <td>NaN</td>\n",
       "      <td>NaN</td>\n",
       "      <td>NaN</td>\n",
       "      <td>NaN</td>\n",
       "      <td>NaN</td>\n",
       "    </tr>\n",
       "    <tr>\n",
       "      <th>33660</th>\n",
       "      <td>95690</td>\n",
       "      <td>95420</td>\n",
       "      <td>Wy-dit-Joli-Village</td>\n",
       "      <td>326</td>\n",
       "      <td>8 km²</td>\n",
       "      <td>41 h/km²</td>\n",
       "      <td>54.6%</td>\n",
       "      <td>2.5%</td>\n",
       "      <td>28 514 €/an</td>\n",
       "      <td>2 674 €</td>\n",
       "      <td>...</td>\n",
       "      <td>0</td>\n",
       "      <td>0</td>\n",
       "      <td>1</td>\n",
       "      <td>0</td>\n",
       "      <td>0</td>\n",
       "      <td>NaN</td>\n",
       "      <td>NaN</td>\n",
       "      <td>NaN</td>\n",
       "      <td>NaN</td>\n",
       "      <td>NaN</td>\n",
       "    </tr>\n",
       "  </tbody>\n",
       "</table>\n",
       "<p>28021 rows × 48 columns</p>\n",
       "</div>"
      ],
      "text/plain": [
       "       Insee  Code_postal                    Ville Nb_habitants Superficie  \\\n",
       "0       1001         1400  L'Abergement-Clémenciat          767     16 km²   \n",
       "1       1002         1640    L'Abergement-de-Varey          241      9 km²   \n",
       "2       1004         1500        Ambérieu-en-Bugey       14 127     25 km²   \n",
       "3       1005         1330      Ambérieux-en-Dombes        1 619     16 km²   \n",
       "5       1007         1500                 Ambronay        2 615     34 km²   \n",
       "...      ...          ...                      ...          ...        ...   \n",
       "33656  95676        95510       Villers-en-Arthies          508      8 km²   \n",
       "33657  95678        95840            Villiers-Adam          851     10 km²   \n",
       "33658  95680        95400          Villiers-le-Bel       27 564      7 km²   \n",
       "33659  95682        95720          Villiers-le-Sec          179      3 km²   \n",
       "33660  95690        95420      Wy-dit-Joli-Village          326      8 km²   \n",
       "\n",
       "       Pop_densite Pop_active Taux_chomage Revenu_moyen Prix_moyen  ...  \\\n",
       "0         48 h/km²        49%         4.3%  22 228 €/an    1 938 €  ...   \n",
       "1         27 h/km²      50.6%         4.1%  22 883 €/an    1 130 €  ...   \n",
       "2        565 h/km²      47.5%         7.5%  19 735 €/an    2 005 €  ...   \n",
       "3        101 h/km²      51.8%         4.1%  23 183 €/an    2 442 €  ...   \n",
       "5         77 h/km²      49.3%         4.2%  21 987 €/an    1 963 €  ...   \n",
       "...            ...        ...          ...          ...        ...  ...   \n",
       "33656     64 h/km²        51%         4.1%  26 675 €/an    2 150 €  ...   \n",
       "33657     85 h/km²      47.7%         4.1%  28 405 €/an    3 343 €  ...   \n",
       "33658  3 938 h/km²      43.9%         9.6%  14 323 €/an    2 449 €  ...   \n",
       "33659     60 h/km²      55.3%         6.7%  25 444 €/an    2 741 €  ...   \n",
       "33660     41 h/km²      54.6%         2.5%  28 514 €/an    2 674 €  ...   \n",
       "\n",
       "       Pharmacie  Maternelle  Primaire  Collège  Lycée  Securite  Education  \\\n",
       "0              0           1         1        0      0       NaN        NaN   \n",
       "1              0           0         0        0      0       NaN        NaN   \n",
       "2              6           5         4        2      2       4.0        3.8   \n",
       "3              1           1         1        0      0       5.0        5.0   \n",
       "5              1           1         1        0      0       3.0        4.0   \n",
       "...          ...         ...       ...      ...    ...       ...        ...   \n",
       "33656          0           0         1        0      0       NaN        NaN   \n",
       "33657          0           1         1        0      0       4.0        4.0   \n",
       "33658          9          12        12        5      2       1.8        2.3   \n",
       "33659          0           0         0        0      0       NaN        NaN   \n",
       "33660          0           0         1        0      0       NaN        NaN   \n",
       "\n",
       "       Loisir / Sport  Environnement  Pratique  \n",
       "0                 NaN            NaN       NaN  \n",
       "1                 NaN            NaN       NaN  \n",
       "2                 3.8            4.0       3.3  \n",
       "3                 3.0            3.0       3.0  \n",
       "5                 3.0            4.0       2.0  \n",
       "...               ...            ...       ...  \n",
       "33656             NaN            NaN       NaN  \n",
       "33657             3.0            4.0       3.5  \n",
       "33658             3.6            2.0       3.0  \n",
       "33659             NaN            NaN       NaN  \n",
       "33660             NaN            NaN       NaN  \n",
       "\n",
       "[28021 rows x 48 columns]"
      ]
     },
     "execution_count": 3,
     "metadata": {},
     "output_type": "execute_result"
    }
   ],
   "source": [
    "data = data[~data['Prix_moyen'].str.contains('NC')]\n",
    "data = data[~data['Revenu_moyen'].str.contains('NC')]\n",
    "data"
   ]
  },
  {
   "cell_type": "markdown",
   "id": "2cd62c84-4132-4a97-9b53-8f9080d971eb",
   "metadata": {},
   "source": [
    "Certaines colonnes doivent être transformées en valeurs numériques pour être exploitables"
   ]
  },
  {
   "cell_type": "code",
   "execution_count": 4,
   "id": "ec3821bf-7595-4c82-85a0-0e0aa2e851fe",
   "metadata": {},
   "outputs": [],
   "source": [
    "data['Nb_habitants'] = data['Nb_habitants'].str.replace(' ', '')\n",
    "data['Superficie'] = data['Superficie'].str.replace('km²', '')\n",
    "data['Superficie'] = data['Superficie'].str.replace(' ', '')\n",
    "data['Pop_densite'] = data['Pop_densite'].str.replace('h/km²', '')\n",
    "data['Pop_densite'] = data['Pop_densite'].str.replace(' ', '')\n",
    "data['Pop_active'] = data['Pop_active'].str.replace('%', '')\n",
    "data['Taux_chomage'] = data['Taux_chomage'].str.replace('%', '')\n",
    "data['Revenu_moyen'] = data['Revenu_moyen'].str.replace('€/an', '')\n",
    "data['Revenu_moyen'] = data['Revenu_moyen'].str.replace(' ', '')\n",
    "data['Prix_moyen'] = data['Prix_moyen'].str.replace('€', '')\n",
    "data['Prix_moyen'] = data['Prix_moyen'].str.replace(' ', '')"
   ]
  },
  {
   "cell_type": "code",
   "execution_count": 5,
   "id": "cbabefef-65b6-4156-befd-74a844c3a326",
   "metadata": {},
   "outputs": [
    {
     "data": {
      "text/html": [
       "<div>\n",
       "<style scoped>\n",
       "    .dataframe tbody tr th:only-of-type {\n",
       "        vertical-align: middle;\n",
       "    }\n",
       "\n",
       "    .dataframe tbody tr th {\n",
       "        vertical-align: top;\n",
       "    }\n",
       "\n",
       "    .dataframe thead th {\n",
       "        text-align: right;\n",
       "    }\n",
       "</style>\n",
       "<table border=\"1\" class=\"dataframe\">\n",
       "  <thead>\n",
       "    <tr style=\"text-align: right;\">\n",
       "      <th></th>\n",
       "      <th>Insee</th>\n",
       "      <th>Code_postal</th>\n",
       "      <th>Ville</th>\n",
       "      <th>Nb_habitants</th>\n",
       "      <th>Superficie</th>\n",
       "      <th>Pop_densite</th>\n",
       "      <th>Pop_active</th>\n",
       "      <th>Taux_chomage</th>\n",
       "      <th>Revenu_moyen</th>\n",
       "      <th>Prix_moyen</th>\n",
       "      <th>...</th>\n",
       "      <th>Pharmacie</th>\n",
       "      <th>Maternelle</th>\n",
       "      <th>Primaire</th>\n",
       "      <th>Collège</th>\n",
       "      <th>Lycée</th>\n",
       "      <th>Securite</th>\n",
       "      <th>Education</th>\n",
       "      <th>Loisir / Sport</th>\n",
       "      <th>Environnement</th>\n",
       "      <th>Pratique</th>\n",
       "    </tr>\n",
       "  </thead>\n",
       "  <tbody>\n",
       "    <tr>\n",
       "      <th>0</th>\n",
       "      <td>1001</td>\n",
       "      <td>1400</td>\n",
       "      <td>L'Abergement-Clémenciat</td>\n",
       "      <td>767</td>\n",
       "      <td>16</td>\n",
       "      <td>48</td>\n",
       "      <td>49</td>\n",
       "      <td>4.3</td>\n",
       "      <td>22228</td>\n",
       "      <td>1938</td>\n",
       "      <td>...</td>\n",
       "      <td>0</td>\n",
       "      <td>1</td>\n",
       "      <td>1</td>\n",
       "      <td>0</td>\n",
       "      <td>0</td>\n",
       "      <td>NaN</td>\n",
       "      <td>NaN</td>\n",
       "      <td>NaN</td>\n",
       "      <td>NaN</td>\n",
       "      <td>NaN</td>\n",
       "    </tr>\n",
       "    <tr>\n",
       "      <th>1</th>\n",
       "      <td>1002</td>\n",
       "      <td>1640</td>\n",
       "      <td>L'Abergement-de-Varey</td>\n",
       "      <td>241</td>\n",
       "      <td>9</td>\n",
       "      <td>27</td>\n",
       "      <td>50.6</td>\n",
       "      <td>4.1</td>\n",
       "      <td>22883</td>\n",
       "      <td>1130</td>\n",
       "      <td>...</td>\n",
       "      <td>0</td>\n",
       "      <td>0</td>\n",
       "      <td>0</td>\n",
       "      <td>0</td>\n",
       "      <td>0</td>\n",
       "      <td>NaN</td>\n",
       "      <td>NaN</td>\n",
       "      <td>NaN</td>\n",
       "      <td>NaN</td>\n",
       "      <td>NaN</td>\n",
       "    </tr>\n",
       "    <tr>\n",
       "      <th>2</th>\n",
       "      <td>1004</td>\n",
       "      <td>1500</td>\n",
       "      <td>Ambérieu-en-Bugey</td>\n",
       "      <td>14127</td>\n",
       "      <td>25</td>\n",
       "      <td>565</td>\n",
       "      <td>47.5</td>\n",
       "      <td>7.5</td>\n",
       "      <td>19735</td>\n",
       "      <td>2005</td>\n",
       "      <td>...</td>\n",
       "      <td>6</td>\n",
       "      <td>5</td>\n",
       "      <td>4</td>\n",
       "      <td>2</td>\n",
       "      <td>2</td>\n",
       "      <td>4.0</td>\n",
       "      <td>3.8</td>\n",
       "      <td>3.8</td>\n",
       "      <td>4.0</td>\n",
       "      <td>3.3</td>\n",
       "    </tr>\n",
       "    <tr>\n",
       "      <th>3</th>\n",
       "      <td>1005</td>\n",
       "      <td>1330</td>\n",
       "      <td>Ambérieux-en-Dombes</td>\n",
       "      <td>1619</td>\n",
       "      <td>16</td>\n",
       "      <td>101</td>\n",
       "      <td>51.8</td>\n",
       "      <td>4.1</td>\n",
       "      <td>23183</td>\n",
       "      <td>2442</td>\n",
       "      <td>...</td>\n",
       "      <td>1</td>\n",
       "      <td>1</td>\n",
       "      <td>1</td>\n",
       "      <td>0</td>\n",
       "      <td>0</td>\n",
       "      <td>5.0</td>\n",
       "      <td>5.0</td>\n",
       "      <td>3.0</td>\n",
       "      <td>3.0</td>\n",
       "      <td>3.0</td>\n",
       "    </tr>\n",
       "    <tr>\n",
       "      <th>5</th>\n",
       "      <td>1007</td>\n",
       "      <td>1500</td>\n",
       "      <td>Ambronay</td>\n",
       "      <td>2615</td>\n",
       "      <td>34</td>\n",
       "      <td>77</td>\n",
       "      <td>49.3</td>\n",
       "      <td>4.2</td>\n",
       "      <td>21987</td>\n",
       "      <td>1963</td>\n",
       "      <td>...</td>\n",
       "      <td>1</td>\n",
       "      <td>1</td>\n",
       "      <td>1</td>\n",
       "      <td>0</td>\n",
       "      <td>0</td>\n",
       "      <td>3.0</td>\n",
       "      <td>4.0</td>\n",
       "      <td>3.0</td>\n",
       "      <td>4.0</td>\n",
       "      <td>2.0</td>\n",
       "    </tr>\n",
       "    <tr>\n",
       "      <th>...</th>\n",
       "      <td>...</td>\n",
       "      <td>...</td>\n",
       "      <td>...</td>\n",
       "      <td>...</td>\n",
       "      <td>...</td>\n",
       "      <td>...</td>\n",
       "      <td>...</td>\n",
       "      <td>...</td>\n",
       "      <td>...</td>\n",
       "      <td>...</td>\n",
       "      <td>...</td>\n",
       "      <td>...</td>\n",
       "      <td>...</td>\n",
       "      <td>...</td>\n",
       "      <td>...</td>\n",
       "      <td>...</td>\n",
       "      <td>...</td>\n",
       "      <td>...</td>\n",
       "      <td>...</td>\n",
       "      <td>...</td>\n",
       "      <td>...</td>\n",
       "    </tr>\n",
       "    <tr>\n",
       "      <th>33656</th>\n",
       "      <td>95676</td>\n",
       "      <td>95510</td>\n",
       "      <td>Villers-en-Arthies</td>\n",
       "      <td>508</td>\n",
       "      <td>8</td>\n",
       "      <td>64</td>\n",
       "      <td>51</td>\n",
       "      <td>4.1</td>\n",
       "      <td>26675</td>\n",
       "      <td>2150</td>\n",
       "      <td>...</td>\n",
       "      <td>0</td>\n",
       "      <td>0</td>\n",
       "      <td>1</td>\n",
       "      <td>0</td>\n",
       "      <td>0</td>\n",
       "      <td>NaN</td>\n",
       "      <td>NaN</td>\n",
       "      <td>NaN</td>\n",
       "      <td>NaN</td>\n",
       "      <td>NaN</td>\n",
       "    </tr>\n",
       "    <tr>\n",
       "      <th>33657</th>\n",
       "      <td>95678</td>\n",
       "      <td>95840</td>\n",
       "      <td>Villiers-Adam</td>\n",
       "      <td>851</td>\n",
       "      <td>10</td>\n",
       "      <td>85</td>\n",
       "      <td>47.7</td>\n",
       "      <td>4.1</td>\n",
       "      <td>28405</td>\n",
       "      <td>3343</td>\n",
       "      <td>...</td>\n",
       "      <td>0</td>\n",
       "      <td>1</td>\n",
       "      <td>1</td>\n",
       "      <td>0</td>\n",
       "      <td>0</td>\n",
       "      <td>4.0</td>\n",
       "      <td>4.0</td>\n",
       "      <td>3.0</td>\n",
       "      <td>4.0</td>\n",
       "      <td>3.5</td>\n",
       "    </tr>\n",
       "    <tr>\n",
       "      <th>33658</th>\n",
       "      <td>95680</td>\n",
       "      <td>95400</td>\n",
       "      <td>Villiers-le-Bel</td>\n",
       "      <td>27564</td>\n",
       "      <td>7</td>\n",
       "      <td>3938</td>\n",
       "      <td>43.9</td>\n",
       "      <td>9.6</td>\n",
       "      <td>14323</td>\n",
       "      <td>2449</td>\n",
       "      <td>...</td>\n",
       "      <td>9</td>\n",
       "      <td>12</td>\n",
       "      <td>12</td>\n",
       "      <td>5</td>\n",
       "      <td>2</td>\n",
       "      <td>1.8</td>\n",
       "      <td>2.3</td>\n",
       "      <td>3.6</td>\n",
       "      <td>2.0</td>\n",
       "      <td>3.0</td>\n",
       "    </tr>\n",
       "    <tr>\n",
       "      <th>33659</th>\n",
       "      <td>95682</td>\n",
       "      <td>95720</td>\n",
       "      <td>Villiers-le-Sec</td>\n",
       "      <td>179</td>\n",
       "      <td>3</td>\n",
       "      <td>60</td>\n",
       "      <td>55.3</td>\n",
       "      <td>6.7</td>\n",
       "      <td>25444</td>\n",
       "      <td>2741</td>\n",
       "      <td>...</td>\n",
       "      <td>0</td>\n",
       "      <td>0</td>\n",
       "      <td>0</td>\n",
       "      <td>0</td>\n",
       "      <td>0</td>\n",
       "      <td>NaN</td>\n",
       "      <td>NaN</td>\n",
       "      <td>NaN</td>\n",
       "      <td>NaN</td>\n",
       "      <td>NaN</td>\n",
       "    </tr>\n",
       "    <tr>\n",
       "      <th>33660</th>\n",
       "      <td>95690</td>\n",
       "      <td>95420</td>\n",
       "      <td>Wy-dit-Joli-Village</td>\n",
       "      <td>326</td>\n",
       "      <td>8</td>\n",
       "      <td>41</td>\n",
       "      <td>54.6</td>\n",
       "      <td>2.5</td>\n",
       "      <td>28514</td>\n",
       "      <td>2674</td>\n",
       "      <td>...</td>\n",
       "      <td>0</td>\n",
       "      <td>0</td>\n",
       "      <td>1</td>\n",
       "      <td>0</td>\n",
       "      <td>0</td>\n",
       "      <td>NaN</td>\n",
       "      <td>NaN</td>\n",
       "      <td>NaN</td>\n",
       "      <td>NaN</td>\n",
       "      <td>NaN</td>\n",
       "    </tr>\n",
       "  </tbody>\n",
       "</table>\n",
       "<p>28021 rows × 48 columns</p>\n",
       "</div>"
      ],
      "text/plain": [
       "       Insee  Code_postal                    Ville Nb_habitants Superficie  \\\n",
       "0       1001         1400  L'Abergement-Clémenciat          767         16   \n",
       "1       1002         1640    L'Abergement-de-Varey          241          9   \n",
       "2       1004         1500        Ambérieu-en-Bugey        14127         25   \n",
       "3       1005         1330      Ambérieux-en-Dombes         1619         16   \n",
       "5       1007         1500                 Ambronay         2615         34   \n",
       "...      ...          ...                      ...          ...        ...   \n",
       "33656  95676        95510       Villers-en-Arthies          508          8   \n",
       "33657  95678        95840            Villiers-Adam          851         10   \n",
       "33658  95680        95400          Villiers-le-Bel        27564          7   \n",
       "33659  95682        95720          Villiers-le-Sec          179          3   \n",
       "33660  95690        95420      Wy-dit-Joli-Village          326          8   \n",
       "\n",
       "      Pop_densite Pop_active Taux_chomage Revenu_moyen Prix_moyen  ...  \\\n",
       "0              48         49          4.3        22228       1938  ...   \n",
       "1              27       50.6          4.1        22883       1130  ...   \n",
       "2             565       47.5          7.5        19735       2005  ...   \n",
       "3             101       51.8          4.1        23183       2442  ...   \n",
       "5              77       49.3          4.2        21987       1963  ...   \n",
       "...           ...        ...          ...          ...        ...  ...   \n",
       "33656          64         51          4.1        26675       2150  ...   \n",
       "33657          85       47.7          4.1        28405       3343  ...   \n",
       "33658        3938       43.9          9.6        14323       2449  ...   \n",
       "33659          60       55.3          6.7        25444       2741  ...   \n",
       "33660          41       54.6          2.5        28514       2674  ...   \n",
       "\n",
       "       Pharmacie  Maternelle  Primaire  Collège  Lycée  Securite  Education  \\\n",
       "0              0           1         1        0      0       NaN        NaN   \n",
       "1              0           0         0        0      0       NaN        NaN   \n",
       "2              6           5         4        2      2       4.0        3.8   \n",
       "3              1           1         1        0      0       5.0        5.0   \n",
       "5              1           1         1        0      0       3.0        4.0   \n",
       "...          ...         ...       ...      ...    ...       ...        ...   \n",
       "33656          0           0         1        0      0       NaN        NaN   \n",
       "33657          0           1         1        0      0       4.0        4.0   \n",
       "33658          9          12        12        5      2       1.8        2.3   \n",
       "33659          0           0         0        0      0       NaN        NaN   \n",
       "33660          0           0         1        0      0       NaN        NaN   \n",
       "\n",
       "       Loisir / Sport  Environnement  Pratique  \n",
       "0                 NaN            NaN       NaN  \n",
       "1                 NaN            NaN       NaN  \n",
       "2                 3.8            4.0       3.3  \n",
       "3                 3.0            3.0       3.0  \n",
       "5                 3.0            4.0       2.0  \n",
       "...               ...            ...       ...  \n",
       "33656             NaN            NaN       NaN  \n",
       "33657             3.0            4.0       3.5  \n",
       "33658             3.6            2.0       3.0  \n",
       "33659             NaN            NaN       NaN  \n",
       "33660             NaN            NaN       NaN  \n",
       "\n",
       "[28021 rows x 48 columns]"
      ]
     },
     "execution_count": 5,
     "metadata": {},
     "output_type": "execute_result"
    }
   ],
   "source": [
    "data.astype({'Nb_habitants': 'int64'})\n",
    "data.astype({'Superficie': 'int64'})\n",
    "data.astype({'Pop_densite': 'int64'})\n",
    "data.astype({'Pop_active': 'float64'})\n",
    "data.astype({'Taux_chomage': 'float64'})\n",
    "data.astype({'Revenu_moyen': 'int64'})\n",
    "data.astype({'Prix_moyen': 'int64'})\n",
    "data"
   ]
  },
  {
   "cell_type": "code",
   "execution_count": 6,
   "id": "78f7a3a8-e9bf-47c2-bd7f-f396f991290f",
   "metadata": {},
   "outputs": [],
   "source": [
    "# On sépare les données labélisées de celles non labélisées.\n",
    "\n",
    "data_with_mark = data[~data['Note_global'].isna()]\n",
    "data_without_mark = data[data['Note_global'].isna()]"
   ]
  },
  {
   "cell_type": "code",
   "execution_count": 7,
   "id": "bd7f5f27-410b-4441-b972-21954fe575e4",
   "metadata": {},
   "outputs": [],
   "source": [
    "labels = ['Note_global', 'Securite', 'Education', 'Loisir / Sport', 'Environnement', 'Pratique']\n",
    "ids = ['Insee', 'Code_postal', 'Ville']\n",
    "villes_train = data_with_mark.loc[:, data_with_mark.columns.isin(ids)].values\n",
    "values_train_df = data_with_mark.loc[:, ~data_with_mark.columns.isin(labels)]\n",
    "values_train_df = values_train_df.loc[:, ~values_train_df.columns.isin(ids)]\n",
    "values_train = values_train_df.values\n",
    "status_train = data_with_mark.loc[:, data_with_mark.columns.isin(labels)].values\n",
    "\n",
    "status_global = data_with_mark.iloc[:, 10].values\n",
    "status_without_global = data_with_mark.iloc[:, -5:].values\n",
    "status_secu = data_with_mark.loc[:, data_with_mark.columns.isin(['Securite'])].values\n",
    "status_edu = data_with_mark.loc[:, data_with_mark.columns.isin(['Education'])].values\n",
    "status_loisir = data_with_mark.loc[:, data_with_mark.columns.isin(['Loisir / Sport'])].values\n",
    "status_env = data_with_mark.loc[:, data_with_mark.columns.isin(['Environnement'])].values\n",
    "status_pratique  =data_with_mark.loc[:, data_with_mark.columns.isin(['Pratique'])].values\n",
    "\n",
    "villes_test = data_without_mark.loc[:, data_without_mark.columns.isin(ids)].values\n",
    "values_test_df = data_without_mark.loc[:, ~data_without_mark.columns.isin(labels)]\n",
    "values_test_df = values_test_df.loc[:, ~values_test_df.columns.isin(ids)]\n",
    "values_test = values_test_df.values"
   ]
  },
  {
   "cell_type": "markdown",
   "id": "1721fed1-5c6d-4fd6-a95e-f9a2f0e18f5a",
   "metadata": {},
   "source": [
    "### Split des données en données  d'entrainement et données de test"
   ]
  },
  {
   "cell_type": "code",
   "execution_count": 8,
   "id": "6a21d668-0086-434e-97f8-ab9b551d678e",
   "metadata": {},
   "outputs": [],
   "source": [
    "from sklearn.model_selection import train_test_split"
   ]
  },
  {
   "cell_type": "code",
   "execution_count": 9,
   "id": "7081e346-7734-47ed-945e-30b161073d0f",
   "metadata": {},
   "outputs": [],
   "source": [
    "X_train, X_test, Y_train_global, Y_test_global = train_test_split(values_train,status_global, test_size=.5, random_state=1)\n",
    "Y_train_without_global, Y_test_without_global = train_test_split(status_without_global, test_size=.5, random_state=1)\n",
    "Y_train_secu, Y_test_secu = train_test_split(status_secu, test_size=.5, random_state=1)\n",
    "Y_train_edu, Y_test_edu = train_test_split(status_edu, test_size=.5, random_state=1)\n",
    "Y_train_loisir, Y_test_loisir = train_test_split(status_loisir, test_size=.5, random_state=1)\n",
    "Y_train_env, Y_test_env = train_test_split(status_env, test_size=.5, random_state=1)\n",
    "Y_train_pratique, Y_test_pratique = train_test_split(status_pratique, test_size=.5, random_state=1)"
   ]
  },
  {
   "cell_type": "markdown",
   "id": "54708d20-bcae-410b-8650-80010bda2b19",
   "metadata": {},
   "source": [
    "# Normalisation"
   ]
  },
  {
   "cell_type": "code",
   "execution_count": 11,
   "id": "d3755fa7-83d1-4a45-9b64-83018cce6b2c",
   "metadata": {},
   "outputs": [],
   "source": [
    "from sklearn.preprocessing import StandardScaler\n",
    "from sklearn.decomposition import PCA, TruncatedSVD"
   ]
  },
  {
   "cell_type": "code",
   "execution_count": 12,
   "id": "d9cac8b3-2e54-4d0a-8e96-4648b5bf6ec5",
   "metadata": {},
   "outputs": [],
   "source": [
    "scaler = StandardScaler()\n",
    "scaler.fit(X_train)\n",
    "X_train_norm = scaler.transform(X_train)\n",
    "X_test_norm = scaler.transform(X_test)\n",
    "svd = TruncatedSVD(n_components=10, n_iter=7, random_state=0)\n",
    "svd.fit(X_train_norm)\n",
    "X_train_svd = svd.transform(X_train_norm)\n",
    "X_test_svd = svd.transform(X_test_norm)"
   ]
  },
  {
   "cell_type": "markdown",
   "id": "9036c945-8bb0-4b91-99a9-1cca3fbabfc9",
   "metadata": {},
   "source": [
    "# Fonctions"
   ]
  },
  {
   "cell_type": "code",
   "execution_count": 13,
   "id": "60dc39e5-2eb6-4924-b337-9e9ecee9f9f0",
   "metadata": {},
   "outputs": [],
   "source": [
    "from sklearn.inspection import permutation_importance\n",
    "from sklearn.metrics import mean_squared_error"
   ]
  },
  {
   "cell_type": "code",
   "execution_count": 14,
   "id": "6fa548e2-7606-4219-9b6d-f1bc347eda09",
   "metadata": {},
   "outputs": [],
   "source": [
    "def get_metrics(status, status_predicted, dt_note):\n",
    "    print('RMSE for {0} : {1:.3f}'.format(dt_note, mean_squared_error(status, status_predicted, squared=False))) \n",
    "    print('MSE for {0} : {1:.3f}'.format(dt_note, mean_squared_error(status, status_predicted, squared=True))) \n",
    "\n",
    "def show_plt_bar(importance, values_train_df):\n",
    "    # plot feature importance\n",
    "    plt.figure(figsize=(15,8))\n",
    "    plt.xticks(rotation=90)\n",
    "    plt.bar([values_train_df.columns[x] for x in range(len(importance))], importance)\n",
    "    plt.show()\n",
    "\n",
    "def get_importance(model, X, Y):\n",
    "    results = permutation_importance(model, X, Y, scoring='neg_mean_squared_error')\n",
    "    return results.importances_mean"
   ]
  },
  {
   "cell_type": "markdown",
   "id": "52f673b3-4a6a-4bf2-a766-e18aac6a8d8a",
   "metadata": {},
   "source": [
    "# KNeighborsRegression"
   ]
  },
  {
   "cell_type": "code",
   "execution_count": 15,
   "id": "6b7eb89a-c9a2-4193-b347-8223399c1fb1",
   "metadata": {},
   "outputs": [],
   "source": [
    "from sklearn.neighbors import KNeighborsRegressor"
   ]
  },
  {
   "cell_type": "code",
   "execution_count": 16,
   "id": "661881c2-2c94-4ac2-9d8d-c6d8bc37868c",
   "metadata": {},
   "outputs": [],
   "source": [
    "KNR = KNeighborsRegressor(n_neighbors=5)"
   ]
  },
  {
   "cell_type": "code",
   "execution_count": 18,
   "id": "24095962-b2dc-4bf0-95d0-a82e2364bf00",
   "metadata": {},
   "outputs": [
    {
     "name": "stdout",
     "output_type": "stream",
     "text": [
      "RMSE for Notes : 1.107\n",
      "MSE for Notes : 1.239\n"
     ]
    }
   ],
   "source": [
    "# Multi-target prediction\n",
    "KNR.fit(X_train_svd, Y_train_without_global)\n",
    "status_without_global_predicted = KNR.predict(X_test_svd)\n",
    "\n",
    "get_metrics(Y_test_without_global, status_without_global_predicted, 'Notes')"
   ]
  },
  {
   "cell_type": "code",
   "execution_count": 19,
   "id": "f752f79e-eeef-4772-a84c-f729d3b26062",
   "metadata": {
    "tags": []
   },
   "outputs": [
    {
     "name": "stdout",
     "output_type": "stream",
     "text": [
      "RMSE for Note_global : 0.843\n",
      "MSE for Note_global : 0.710\n"
     ]
    },
    {
     "data": {
      "image/png": "[encoded data removed]",
      "text/plain": [
       "<Figure size 1080x576 with 1 Axes>"
      ]
     },
     "metadata": {
      "needs_background": "light"
     },
     "output_type": "display_data"
    }
   ],
   "source": [
    "# Prédiction de la Note_Globale\n",
    "KNR.fit(X_train_svd, Y_train_global)\n",
    "status_global_predicted = KNR.predict(X_test_svd)\n",
    "\n",
    "get_metrics(Y_test_global, status_global_predicted, 'Note_global')\n",
    "show_plt_bar(get_importance(KNR,X_test_svd, Y_test_global), values_train_df)"
   ]
  },
  {
   "cell_type": "code",
   "execution_count": 20,
   "id": "9028d145-54f0-4baa-8f62-5a980d09ec8c",
   "metadata": {
    "tags": []
   },
   "outputs": [
    {
     "name": "stdout",
     "output_type": "stream",
     "text": [
      "RMSE for Securite : 0.948\n",
      "MSE for Securite : 0.898\n"
     ]
    },
    {
     "data": {
      "image/png": "[encoded data removed]",
      "text/plain": [
       "<Figure size 1080x576 with 1 Axes>"
      ]
     },
     "metadata": {
      "needs_background": "light"
     },
     "output_type": "display_data"
    }
   ],
   "source": [
    "# Prédiction de la note Sécurité\n",
    "KNR.fit(X_train_svd, Y_train_secu)\n",
    "status_secu_predicted = KNR.predict(X_test_svd)\n",
    "\n",
    "get_metrics(Y_test_secu, status_secu_predicted, 'Securite')\n",
    "show_plt_bar(get_importance(KNR,X_test_svd, Y_test_secu), values_train_df)"
   ]
  },
  {
   "cell_type": "code",
   "execution_count": 21,
   "id": "6a5cec2b-88f6-4986-ba38-3e95b8804102",
   "metadata": {
    "tags": []
   },
   "outputs": [
    {
     "name": "stdout",
     "output_type": "stream",
     "text": [
      "RMSE for Education : 1.070\n",
      "MSE for Education : 1.146\n"
     ]
    },
    {
     "data": {
      "image/png": "[encoded data removed]",
      "text/plain": [
       "<Figure size 1080x576 with 1 Axes>"
      ]
     },
     "metadata": {
      "needs_background": "light"
     },
     "output_type": "display_data"
    }
   ],
   "source": [
    "# Prédiction de la note Education\n",
    "KNR.fit(X_train_svd, Y_train_edu)\n",
    "status_edu_predicted = KNR.predict(X_test_svd)\n",
    "\n",
    "get_metrics(Y_test_edu, status_edu_predicted, 'Education')\n",
    "show_plt_bar(get_importance(KNR,X_test_svd, Y_test_secu), values_train_df)"
   ]
  },
  {
   "cell_type": "code",
   "execution_count": 22,
   "id": "ae6f7d3c-cb32-40ba-968d-6b8fdf825896",
   "metadata": {
    "tags": []
   },
   "outputs": [
    {
     "name": "stdout",
     "output_type": "stream",
     "text": [
      "RMSE for Loisir / Sport : 1.187\n",
      "MSE for Loisir / Sport : 1.408\n"
     ]
    },
    {
     "data": {
      "image/png": "[encoded data removed]",
      "text/plain": [
       "<Figure size 1080x576 with 1 Axes>"
      ]
     },
     "metadata": {
      "needs_background": "light"
     },
     "output_type": "display_data"
    }
   ],
   "source": [
    "# Prédiction de la note Sport / Loisir\n",
    "KNR.fit(X_train_svd, Y_train_loisir)\n",
    "status_loisir_predicted = KNR.predict(X_test_svd)\n",
    "\n",
    "get_metrics(Y_test_loisir, status_loisir_predicted, 'Loisir / Sport')\n",
    "show_plt_bar(get_importance(KNR,X_test_svd, Y_test_loisir), values_train_df)"
   ]
  },
  {
   "cell_type": "code",
   "execution_count": 23,
   "id": "73cc77be-10d0-4964-a534-0166d45cad08",
   "metadata": {
    "tags": []
   },
   "outputs": [
    {
     "name": "stdout",
     "output_type": "stream",
     "text": [
      "RMSE for Environnement : 1.041\n",
      "MSE for Environnement : 1.083\n"
     ]
    },
    {
     "data": {
      "image/png": "[encoded data removed]",
      "text/plain": [
       "<Figure size 1080x576 with 1 Axes>"
      ]
     },
     "metadata": {
      "needs_background": "light"
     },
     "output_type": "display_data"
    }
   ],
   "source": [
    "# Prédiction de la note Environnement\n",
    "KNR.fit(X_train_svd, Y_train_env)\n",
    "status_env_predicted = KNR.predict(X_test_svd)\n",
    "\n",
    "get_metrics(Y_test_env, status_env_predicted, 'Environnement')\n",
    "show_plt_bar(get_importance(KNR,X_test_svd, Y_test_env), values_train_df)"
   ]
  },
  {
   "cell_type": "code",
   "execution_count": 24,
   "id": "39f83d43-4915-47de-b91a-eb9cca1438b5",
   "metadata": {
    "tags": []
   },
   "outputs": [
    {
     "name": "stdout",
     "output_type": "stream",
     "text": [
      "RMSE for Pratique : 1.287\n",
      "MSE for Pratique : 1.658\n"
     ]
    },
    {
     "data": {
      "image/png": "[encoded data removed]",
      "text/plain": [
       "<Figure size 1080x576 with 1 Axes>"
      ]
     },
     "metadata": {
      "needs_background": "light"
     },
     "output_type": "display_data"
    }
   ],
   "source": [
    "# Prédiction de la note Vie pratique\n",
    "KNR.fit(X_train_svd, Y_train_pratique)\n",
    "status_pratique_predicted = KNR.predict(X_test_svd)\n",
    "\n",
    "get_metrics(Y_test_pratique, status_pratique_predicted, 'Pratique')\n",
    "show_plt_bar(get_importance(KNR,X_test_svd, Y_test_pratique), values_train_df)"
   ]
  },
  {
   "cell_type": "markdown",
   "id": "5c8d0b98-9505-440f-9c65-29b54c50e376",
   "metadata": {},
   "source": [
    "# Random forest"
   ]
  },
  {
   "cell_type": "code",
   "execution_count": 25,
   "id": "13900854-8f98-42e6-942e-0c6abe8a16b4",
   "metadata": {},
   "outputs": [],
   "source": [
    "from sklearn.ensemble import RandomForestRegressor"
   ]
  },
  {
   "cell_type": "code",
   "execution_count": 26,
   "id": "2d370529-0c31-4609-96f2-f894d611c9ad",
   "metadata": {},
   "outputs": [],
   "source": [
    "regr = RandomForestRegressor(max_depth = 15, random_state=0)"
   ]
  },
  {
   "cell_type": "code",
   "execution_count": 27,
   "id": "46597b18-0060-4b6a-9b6a-46c6bbe6b5c8",
   "metadata": {},
   "outputs": [
    {
     "name": "stdout",
     "output_type": "stream",
     "text": [
      "RMSE for Notes : 1.029\n",
      "MSE for Notes : 1.071\n"
     ]
    }
   ],
   "source": [
    "# Multi-target prediction\n",
    "regr.fit(X_train_svd, Y_train_without_global)\n",
    "status_without_global_predicted = regr.predict(X_test_svd)\n",
    "\n",
    "get_metrics(Y_test_without_global, status_without_global_predicted, 'Notes')"
   ]
  },
  {
   "cell_type": "code",
   "execution_count": 28,
   "id": "26a6644e-fa49-4c2d-bac6-c6d554505977",
   "metadata": {
    "tags": []
   },
   "outputs": [
    {
     "name": "stdout",
     "output_type": "stream",
     "text": [
      "RMSE for Note_global : 0.787\n",
      "MSE for Note_global : 0.620\n"
     ]
    },
    {
     "data": {
      "image/png": "[encoded data removed]",
      "text/plain": [
       "<Figure size 1080x576 with 1 Axes>"
      ]
     },
     "metadata": {
      "needs_background": "light"
     },
     "output_type": "display_data"
    }
   ],
   "source": [
    "# Prédiction de la note globale\n",
    "regr.fit(X_train_svd, Y_train_global)\n",
    "status_global_predicted = regr.predict(X_test_svd)\n",
    "\n",
    "get_metrics(Y_test_global, status_global_predicted, 'Note_global')\n",
    "show_plt_bar(get_importance(regr,X_test_svd, Y_test_global), values_train_df)"
   ]
  },
  {
   "cell_type": "code",
   "execution_count": 29,
   "id": "a6785231-ee8b-4d22-8d11-b91a3391c131",
   "metadata": {
    "tags": []
   },
   "outputs": [
    {
     "name": "stderr",
     "output_type": "stream",
     "text": [
      "/tmp/ipykernel_11109/1680717998.py:1: DataConversionWarning: A column-vector y was passed when a 1d array was expected. Please change the shape of y to (n_samples,), for example using ravel().\n",
      "  regr.fit(X_train_svd, Y_train_secu)\n"
     ]
    },
    {
     "name": "stdout",
     "output_type": "stream",
     "text": [
      "RMSE for Securite : 0.883\n",
      "MSE for Securite : 0.780\n"
     ]
    },
    {
     "data": {
      "image/png": "[encoded data removed]",
      "text/plain": [
       "<Figure size 1080x576 with 1 Axes>"
      ]
     },
     "metadata": {
      "needs_background": "light"
     },
     "output_type": "display_data"
    }
   ],
   "source": [
    "# Prédiction de la note Sécurité\n",
    "regr.fit(X_train_svd, Y_train_secu)\n",
    "status_secu_predicted = regr.predict(X_test_svd)\n",
    "\n",
    "get_metrics(Y_test_secu, status_secu_predicted, 'Securite')\n",
    "show_plt_bar(get_importance(regr,X_test_svd, Y_test_secu), values_train_df)"
   ]
  },
  {
   "cell_type": "code",
   "execution_count": 30,
   "id": "1f05405d-69b9-4fa4-9438-283a32369255",
   "metadata": {
    "tags": []
   },
   "outputs": [
    {
     "name": "stderr",
     "output_type": "stream",
     "text": [
      "/tmp/ipykernel_11109/556696487.py:1: DataConversionWarning: A column-vector y was passed when a 1d array was expected. Please change the shape of y to (n_samples,), for example using ravel().\n",
      "  regr.fit(X_train_svd, Y_train_edu)\n"
     ]
    },
    {
     "name": "stdout",
     "output_type": "stream",
     "text": [
      "RMSE for Education : 1.006\n",
      "MSE for Education : 1.011\n"
     ]
    },
    {
     "data": {
      "image/png": "[encoded data removed]",
      "text/plain": [
       "<Figure size 1080x576 with 1 Axes>"
      ]
     },
     "metadata": {
      "needs_background": "light"
     },
     "output_type": "display_data"
    }
   ],
   "source": [
    "# Prédiction de la note Education\n",
    "regr.fit(X_train_svd, Y_train_edu)\n",
    "status_edu_predicted = regr.predict(X_test_svd)\n",
    "\n",
    "get_metrics(Y_test_edu, status_edu_predicted, 'Education')\n",
    "show_plt_bar(get_importance(regr,X_test_svd, Y_test_edu), values_train_df)"
   ]
  },
  {
   "cell_type": "code",
   "execution_count": 31,
   "id": "bbc0a2d7-263a-47d3-8c24-bf374d98449e",
   "metadata": {
    "tags": []
   },
   "outputs": [
    {
     "name": "stderr",
     "output_type": "stream",
     "text": [
      "/tmp/ipykernel_11109/2672449065.py:1: DataConversionWarning: A column-vector y was passed when a 1d array was expected. Please change the shape of y to (n_samples,), for example using ravel().\n",
      "  regr.fit(X_train_svd, Y_train_loisir)\n"
     ]
    },
    {
     "name": "stdout",
     "output_type": "stream",
     "text": [
      "RMSE for Loisir / Sport : 1.110\n",
      "MSE for Loisir / Sport : 1.233\n"
     ]
    },
    {
     "data": {
      "image/png": "[encoded data removed]",
      "text/plain": [
       "<Figure size 1080x576 with 1 Axes>"
      ]
     },
     "metadata": {
      "needs_background": "light"
     },
     "output_type": "display_data"
    }
   ],
   "source": [
    "# Prédiction de la note Sports / Loisir\n",
    "regr.fit(X_train_svd, Y_train_loisir)\n",
    "status_loisir_predicted = regr.predict(X_test_svd)\n",
    "\n",
    "get_metrics(Y_test_loisir, status_loisir_predicted, 'Loisir / Sport')\n",
    "show_plt_bar(get_importance(regr,X_test_svd, Y_test_loisir), values_train_df)"
   ]
  },
  {
   "cell_type": "code",
   "execution_count": 32,
   "id": "d8d0aee5-23dc-464c-8789-c8c54a894af7",
   "metadata": {
    "tags": []
   },
   "outputs": [
    {
     "name": "stderr",
     "output_type": "stream",
     "text": [
      "/tmp/ipykernel_11109/3085280040.py:1: DataConversionWarning: A column-vector y was passed when a 1d array was expected. Please change the shape of y to (n_samples,), for example using ravel().\n",
      "  regr.fit(X_train_svd, Y_train_env)\n"
     ]
    },
    {
     "name": "stdout",
     "output_type": "stream",
     "text": [
      "RMSE for Environnement : 0.971\n",
      "MSE for Environnement : 0.943\n"
     ]
    },
    {
     "data": {
      "image/png": "[encoded data removed]",
      "text/plain": [
       "<Figure size 1080x576 with 1 Axes>"
      ]
     },
     "metadata": {
      "needs_background": "light"
     },
     "output_type": "display_data"
    }
   ],
   "source": [
    "# Prédiction de la note Environnement\n",
    "regr.fit(X_train_svd, Y_train_env)\n",
    "status_env_predicted = regr.predict(X_test_svd)\n",
    "\n",
    "get_metrics(Y_test_env, status_env_predicted, 'Environnement')\n",
    "show_plt_bar(get_importance(regr,X_test_svd, Y_test_env), values_train_df)"
   ]
  },
  {
   "cell_type": "code",
   "execution_count": 33,
   "id": "1eb47370-d7ad-4b7b-be85-b33496526a64",
   "metadata": {
    "tags": []
   },
   "outputs": [
    {
     "name": "stderr",
     "output_type": "stream",
     "text": [
      "/tmp/ipykernel_11109/1902663622.py:1: DataConversionWarning: A column-vector y was passed when a 1d array was expected. Please change the shape of y to (n_samples,), for example using ravel().\n",
      "  regr.fit(X_train_svd, Y_train_pratique)\n"
     ]
    },
    {
     "name": "stdout",
     "output_type": "stream",
     "text": [
      "RMSE for Pratique : 1.203\n",
      "MSE for Pratique : 1.447\n"
     ]
    },
    {
     "data": {
      "image/png": "[encoded data removed]",
      "text/plain": [
       "<Figure size 1080x576 with 1 Axes>"
      ]
     },
     "metadata": {
      "needs_background": "light"
     },
     "output_type": "display_data"
    }
   ],
   "source": [
    "# Prédiction de la note Vie Pratique\n",
    "regr.fit(X_train_svd, Y_train_pratique)\n",
    "status_pratique_predicted = regr.predict(X_test_svd)\n",
    "\n",
    "get_metrics(Y_test_pratique, status_pratique_predicted, 'Pratique')\n",
    "show_plt_bar(get_importance(regr,X_test_svd, Y_test_pratique), values_train_df)"
   ]
  },
  {
   "cell_type": "markdown",
   "id": "1ba5200d-6639-4a94-a38c-a88b030e01fb",
   "metadata": {},
   "source": [
    "# MLP"
   ]
  },
  {
   "cell_type": "code",
   "execution_count": 34,
   "id": "c62df79f-b80b-4b57-bf40-90f56cb06e74",
   "metadata": {},
   "outputs": [],
   "source": [
    "from sklearn.neural_network import MLPRegressor"
   ]
  },
  {
   "cell_type": "code",
   "execution_count": 35,
   "id": "2d988630-323a-4ba0-a0d6-079c137b1caf",
   "metadata": {},
   "outputs": [],
   "source": [
    "mlp = MLPRegressor(random_state=1, max_iter=1000)"
   ]
  },
  {
   "cell_type": "code",
   "execution_count": 36,
   "id": "c688f0a7-feb4-4bab-bb61-85ba9e8220d7",
   "metadata": {},
   "outputs": [
    {
     "name": "stdout",
     "output_type": "stream",
     "text": [
      "RMSE for Notes : 1.034\n",
      "MSE for Notes : 1.082\n"
     ]
    }
   ],
   "source": [
    "# Multi-target prediction\n",
    "mlp.fit(X_train_svd, Y_train_without_global)\n",
    "status_without_global_predicted = mlp.predict(X_test_svd)\n",
    "\n",
    "get_metrics(Y_test_without_global, status_without_global_predicted, 'Notes')"
   ]
  },
  {
   "cell_type": "code",
   "execution_count": 37,
   "id": "cbad50e7-1bcf-4d1e-9b3e-181c6c7b2f8a",
   "metadata": {
    "tags": []
   },
   "outputs": [
    {
     "name": "stdout",
     "output_type": "stream",
     "text": [
      "RMSE for Note_global : 0.810\n",
      "MSE for Note_global : 0.656\n"
     ]
    },
    {
     "data": {
      "image/png": "[encoded data removed]",
      "text/plain": [
       "<Figure size 1080x576 with 1 Axes>"
      ]
     },
     "metadata": {
      "needs_background": "light"
     },
     "output_type": "display_data"
    }
   ],
   "source": [
    "# Prédiction de la note globale\n",
    "mlp.fit(X_train_svd, Y_train_global)\n",
    "status_global_predicted = mlp.predict(X_test_svd)\n",
    "\n",
    "get_metrics(Y_test_global, status_global_predicted, 'Note_global')\n",
    "show_plt_bar(get_importance(mlp,X_test_svd, Y_test_global), values_train_df)"
   ]
  },
  {
   "cell_type": "code",
   "execution_count": 38,
   "id": "e7f1588a-a82e-4873-a282-111bddf2ed6d",
   "metadata": {
    "tags": []
   },
   "outputs": [
    {
     "name": "stderr",
     "output_type": "stream",
     "text": [
      "/home/nguyenthomas/anaconda3/lib/python3.9/site-packages/sklearn/utils/validation.py:63: DataConversionWarning: A column-vector y was passed when a 1d array was expected. Please change the shape of y to (n_samples, ), for example using ravel().\n",
      "  return f(*args, **kwargs)\n"
     ]
    },
    {
     "name": "stdout",
     "output_type": "stream",
     "text": [
      "RMSE for Securite : 0.885\n",
      "MSE for Securite : 0.783\n"
     ]
    },
    {
     "data": {
      "image/png": "[encoded data removed]",
      "text/plain": [
       "<Figure size 1080x576 with 1 Axes>"
      ]
     },
     "metadata": {
      "needs_background": "light"
     },
     "output_type": "display_data"
    }
   ],
   "source": [
    "# Prédiction de la note Sécurité\n",
    "mlp.fit(X_train_svd, Y_train_secu)\n",
    "status_secu_predicted = mlp.predict(X_test_svd)\n",
    "\n",
    "get_metrics(Y_test_secu, status_secu_predicted, 'Securite')\n",
    "show_plt_bar(get_importance(mlp,X_test_svd, Y_test_secu), values_train_df)"
   ]
  },
  {
   "cell_type": "code",
   "execution_count": 39,
   "id": "7b8a90b5-f46d-4407-963b-3f42b198bc6a",
   "metadata": {
    "tags": []
   },
   "outputs": [
    {
     "name": "stderr",
     "output_type": "stream",
     "text": [
      "/home/nguyenthomas/anaconda3/lib/python3.9/site-packages/sklearn/utils/validation.py:63: DataConversionWarning: A column-vector y was passed when a 1d array was expected. Please change the shape of y to (n_samples, ), for example using ravel().\n",
      "  return f(*args, **kwargs)\n"
     ]
    },
    {
     "name": "stdout",
     "output_type": "stream",
     "text": [
      "RMSE for Education : 1.018\n",
      "MSE for Education : 1.036\n"
     ]
    },
    {
     "data": {
      "image/png": "[encoded data removed]",
      "text/plain": [
       "<Figure size 1080x576 with 1 Axes>"
      ]
     },
     "metadata": {
      "needs_background": "light"
     },
     "output_type": "display_data"
    }
   ],
   "source": [
    "# Prédiction de la note Education\n",
    "mlp.fit(X_train_svd, Y_train_edu)\n",
    "status_edu_predicted = mlp.predict(X_test_svd)\n",
    "\n",
    "get_metrics(Y_test_edu, status_edu_predicted, 'Education')\n",
    "show_plt_bar(get_importance(mlp,X_test_svd, Y_test_edu), values_train_df)"
   ]
  },
  {
   "cell_type": "code",
   "execution_count": 40,
   "id": "efc34199-85ef-4339-88e7-deecd9ececbd",
   "metadata": {
    "tags": []
   },
   "outputs": [
    {
     "name": "stderr",
     "output_type": "stream",
     "text": [
      "/home/nguyenthomas/anaconda3/lib/python3.9/site-packages/sklearn/utils/validation.py:63: DataConversionWarning: A column-vector y was passed when a 1d array was expected. Please change the shape of y to (n_samples, ), for example using ravel().\n",
      "  return f(*args, **kwargs)\n"
     ]
    },
    {
     "name": "stdout",
     "output_type": "stream",
     "text": [
      "RMSE for Loisir / Sport : 1.141\n",
      "MSE for Loisir / Sport : 1.303\n"
     ]
    },
    {
     "data": {
      "image/png": "[encoded data removed]",
      "text/plain": [
       "<Figure size 1080x576 with 1 Axes>"
      ]
     },
     "metadata": {
      "needs_background": "light"
     },
     "output_type": "display_data"
    }
   ],
   "source": [
    "# Prédiction de la note Sports / Loisir\n",
    "mlp.fit(X_train_svd, Y_train_loisir)\n",
    "status_loisir_predicted = mlp.predict(X_test_svd)\n",
    "\n",
    "get_metrics(Y_test_loisir, status_loisir_predicted, 'Loisir / Sport')\n",
    "show_plt_bar(get_importance(mlp,X_test_svd, Y_test_loisir), values_train_df)"
   ]
  },
  {
   "cell_type": "code",
   "execution_count": 41,
   "id": "d810c68f-7ea5-4adb-a622-09af728910e3",
   "metadata": {
    "tags": []
   },
   "outputs": [
    {
     "name": "stderr",
     "output_type": "stream",
     "text": [
      "/home/nguyenthomas/anaconda3/lib/python3.9/site-packages/sklearn/utils/validation.py:63: DataConversionWarning: A column-vector y was passed when a 1d array was expected. Please change the shape of y to (n_samples, ), for example using ravel().\n",
      "  return f(*args, **kwargs)\n"
     ]
    },
    {
     "name": "stdout",
     "output_type": "stream",
     "text": [
      "RMSE for Environnement : 0.978\n",
      "MSE for Environnement : 0.957\n"
     ]
    },
    {
     "data": {
      "image/png": "[encoded data removed]",
      "text/plain": [
       "<Figure size 1080x576 with 1 Axes>"
      ]
     },
     "metadata": {
      "needs_background": "light"
     },
     "output_type": "display_data"
    }
   ],
   "source": [
    "# Prédiction de la note Environnement\n",
    "mlp.fit(X_train_svd, Y_train_env)\n",
    "status_env_predicted = mlp.predict(X_test_svd)\n",
    "\n",
    "get_metrics(Y_test_env, status_env_predicted, 'Environnement')\n",
    "show_plt_bar(get_importance(mlp,X_test_svd, Y_test_env), values_train_df)"
   ]
  },
  {
   "cell_type": "code",
   "execution_count": 42,
   "id": "c23cf8aa-311a-456a-9fda-3de9cf1776db",
   "metadata": {
    "tags": []
   },
   "outputs": [
    {
     "name": "stderr",
     "output_type": "stream",
     "text": [
      "/home/nguyenthomas/anaconda3/lib/python3.9/site-packages/sklearn/utils/validation.py:63: DataConversionWarning: A column-vector y was passed when a 1d array was expected. Please change the shape of y to (n_samples, ), for example using ravel().\n",
      "  return f(*args, **kwargs)\n"
     ]
    },
    {
     "name": "stdout",
     "output_type": "stream",
     "text": [
      "RMSE for Pratique : 1.238\n",
      "MSE for Pratique : 1.532\n"
     ]
    },
    {
     "data": {
      "image/png": "[encoded data removed]",
      "text/plain": [
       "<Figure size 1080x576 with 1 Axes>"
      ]
     },
     "metadata": {
      "needs_background": "light"
     },
     "output_type": "display_data"
    }
   ],
   "source": [
    "# Prédiction de la note Vie Pratique\n",
    "mlp.fit(X_train_svd, Y_train_pratique)\n",
    "status_pratique_predicted = mlp.predict(X_test_svd)\n",
    "\n",
    "get_metrics(Y_test_pratique, status_pratique_predicted, 'Pratique')\n",
    "show_plt_bar(get_importance(mlp,X_test_svd, Y_test_pratique), values_train_df)"
   ]
  },
  {
   "cell_type": "markdown",
   "id": "91017eab-833f-41f6-a39c-62dab72d62cd",
   "metadata": {},
   "source": [
    "# Prédiction des données "
   ]
  },
  {
   "cell_type": "markdown",
   "id": "b76e4a61-097b-465c-b365-a521c8177d46",
   "metadata": {},
   "source": [
    "On a choisi de garder RandomForest, qui a donné les résultats les plus proches de la réalité lors de notre test précédent (RMSE et MSE les plus bas)\n",
    "\n",
    "On a choisi de prédire les notes détaillées et de calculer leur moyenne pour la note globale (même fonctionnement que sur le site)"
   ]
  },
  {
   "cell_type": "code",
   "execution_count": 47,
   "id": "e1540087-cbc7-4121-98cd-81cdfafc2ea5",
   "metadata": {
    "tags": []
   },
   "outputs": [],
   "source": [
    "X_train_norm = scaler.transform(values_train)\n",
    "X_train_svd = svd.transform(X_train_norm)\n",
    "\n",
    "X_predict_norm = scaler.transform(values_test)\n",
    "X_predict_svd = svd.transform(X_predict_norm)\n",
    "\n",
    "regr.fit(X_train_svd, status_without_global)\n",
    "status_without_global_predicted = regr.predict(X_predict_svd)"
   ]
  },
  {
   "cell_type": "code",
   "execution_count": 52,
   "id": "c17ae863-a6dd-46a8-883e-5df35daa1f96",
   "metadata": {},
   "outputs": [
    {
     "data": {
      "text/html": [
       "<div>\n",
       "<style scoped>\n",
       "    .dataframe tbody tr th:only-of-type {\n",
       "        vertical-align: middle;\n",
       "    }\n",
       "\n",
       "    .dataframe tbody tr th {\n",
       "        vertical-align: top;\n",
       "    }\n",
       "\n",
       "    .dataframe thead th {\n",
       "        text-align: right;\n",
       "    }\n",
       "</style>\n",
       "<table border=\"1\" class=\"dataframe\">\n",
       "  <thead>\n",
       "    <tr style=\"text-align: right;\">\n",
       "      <th></th>\n",
       "      <th>Insee</th>\n",
       "      <th>Code_postal</th>\n",
       "      <th>Ville</th>\n",
       "      <th>Nb_habitants</th>\n",
       "      <th>Superficie</th>\n",
       "      <th>Pop_densite</th>\n",
       "      <th>Pop_active</th>\n",
       "      <th>Taux_chomage</th>\n",
       "      <th>Revenu_moyen</th>\n",
       "      <th>Prix_moyen</th>\n",
       "      <th>...</th>\n",
       "      <th>Pharmacie</th>\n",
       "      <th>Maternelle</th>\n",
       "      <th>Primaire</th>\n",
       "      <th>Collège</th>\n",
       "      <th>Lycée</th>\n",
       "      <th>Securite</th>\n",
       "      <th>Education</th>\n",
       "      <th>Loisir / Sport</th>\n",
       "      <th>Environnement</th>\n",
       "      <th>Pratique</th>\n",
       "    </tr>\n",
       "  </thead>\n",
       "  <tbody>\n",
       "    <tr>\n",
       "      <th>0</th>\n",
       "      <td>1001</td>\n",
       "      <td>1400</td>\n",
       "      <td>L'Abergement-Clémenciat</td>\n",
       "      <td>767</td>\n",
       "      <td>16</td>\n",
       "      <td>48</td>\n",
       "      <td>49</td>\n",
       "      <td>4.3</td>\n",
       "      <td>22228</td>\n",
       "      <td>1938</td>\n",
       "      <td>...</td>\n",
       "      <td>0</td>\n",
       "      <td>1</td>\n",
       "      <td>1</td>\n",
       "      <td>0</td>\n",
       "      <td>0</td>\n",
       "      <td>3.911086</td>\n",
       "      <td>3.558193</td>\n",
       "      <td>2.821216</td>\n",
       "      <td>3.887152</td>\n",
       "      <td>2.729014</td>\n",
       "    </tr>\n",
       "    <tr>\n",
       "      <th>1</th>\n",
       "      <td>1002</td>\n",
       "      <td>1640</td>\n",
       "      <td>L'Abergement-de-Varey</td>\n",
       "      <td>241</td>\n",
       "      <td>9</td>\n",
       "      <td>27</td>\n",
       "      <td>50.6</td>\n",
       "      <td>4.1</td>\n",
       "      <td>22883</td>\n",
       "      <td>1130</td>\n",
       "      <td>...</td>\n",
       "      <td>0</td>\n",
       "      <td>0</td>\n",
       "      <td>0</td>\n",
       "      <td>0</td>\n",
       "      <td>0</td>\n",
       "      <td>4.000943</td>\n",
       "      <td>2.858437</td>\n",
       "      <td>2.041952</td>\n",
       "      <td>3.896197</td>\n",
       "      <td>2.057704</td>\n",
       "    </tr>\n",
       "    <tr>\n",
       "      <th>6</th>\n",
       "      <td>1008</td>\n",
       "      <td>1500</td>\n",
       "      <td>Ambutrix</td>\n",
       "      <td>747</td>\n",
       "      <td>5</td>\n",
       "      <td>149</td>\n",
       "      <td>55.6</td>\n",
       "      <td>4.1</td>\n",
       "      <td>24389</td>\n",
       "      <td>1940</td>\n",
       "      <td>...</td>\n",
       "      <td>1</td>\n",
       "      <td>1</td>\n",
       "      <td>1</td>\n",
       "      <td>0</td>\n",
       "      <td>0</td>\n",
       "      <td>3.952892</td>\n",
       "      <td>3.527048</td>\n",
       "      <td>2.613205</td>\n",
       "      <td>3.845822</td>\n",
       "      <td>2.364580</td>\n",
       "    </tr>\n",
       "    <tr>\n",
       "      <th>7</th>\n",
       "      <td>1009</td>\n",
       "      <td>1300</td>\n",
       "      <td>Andert-et-Condon</td>\n",
       "      <td>342</td>\n",
       "      <td>7</td>\n",
       "      <td>49</td>\n",
       "      <td>45.9</td>\n",
       "      <td>3.5</td>\n",
       "      <td>23071</td>\n",
       "      <td>966</td>\n",
       "      <td>...</td>\n",
       "      <td>0</td>\n",
       "      <td>0</td>\n",
       "      <td>0</td>\n",
       "      <td>0</td>\n",
       "      <td>0</td>\n",
       "      <td>3.928057</td>\n",
       "      <td>3.135487</td>\n",
       "      <td>2.560755</td>\n",
       "      <td>3.967928</td>\n",
       "      <td>2.642644</td>\n",
       "    </tr>\n",
       "    <tr>\n",
       "      <th>8</th>\n",
       "      <td>1010</td>\n",
       "      <td>1350</td>\n",
       "      <td>Anglefort</td>\n",
       "      <td>1133</td>\n",
       "      <td>29</td>\n",
       "      <td>39</td>\n",
       "      <td>48.4</td>\n",
       "      <td>4.7</td>\n",
       "      <td>22527</td>\n",
       "      <td>1970</td>\n",
       "      <td>...</td>\n",
       "      <td>0</td>\n",
       "      <td>1</td>\n",
       "      <td>1</td>\n",
       "      <td>0</td>\n",
       "      <td>0</td>\n",
       "      <td>4.043286</td>\n",
       "      <td>3.561482</td>\n",
       "      <td>2.921106</td>\n",
       "      <td>3.858988</td>\n",
       "      <td>2.705384</td>\n",
       "    </tr>\n",
       "    <tr>\n",
       "      <th>...</th>\n",
       "      <td>...</td>\n",
       "      <td>...</td>\n",
       "      <td>...</td>\n",
       "      <td>...</td>\n",
       "      <td>...</td>\n",
       "      <td>...</td>\n",
       "      <td>...</td>\n",
       "      <td>...</td>\n",
       "      <td>...</td>\n",
       "      <td>...</td>\n",
       "      <td>...</td>\n",
       "      <td>...</td>\n",
       "      <td>...</td>\n",
       "      <td>...</td>\n",
       "      <td>...</td>\n",
       "      <td>...</td>\n",
       "      <td>...</td>\n",
       "      <td>...</td>\n",
       "      <td>...</td>\n",
       "      <td>...</td>\n",
       "      <td>...</td>\n",
       "    </tr>\n",
       "    <tr>\n",
       "      <th>33650</th>\n",
       "      <td>95651</td>\n",
       "      <td>95780</td>\n",
       "      <td>Vétheuil</td>\n",
       "      <td>839</td>\n",
       "      <td>4</td>\n",
       "      <td>210</td>\n",
       "      <td>47.1</td>\n",
       "      <td>4.1</td>\n",
       "      <td>22573</td>\n",
       "      <td>2426</td>\n",
       "      <td>...</td>\n",
       "      <td>1</td>\n",
       "      <td>1</td>\n",
       "      <td>1</td>\n",
       "      <td>0</td>\n",
       "      <td>0</td>\n",
       "      <td>2.500000</td>\n",
       "      <td>3.000000</td>\n",
       "      <td>3.000000</td>\n",
       "      <td>4.000000</td>\n",
       "      <td>3.000000</td>\n",
       "    </tr>\n",
       "    <tr>\n",
       "      <th>33651</th>\n",
       "      <td>95652</td>\n",
       "      <td>95270</td>\n",
       "      <td>Viarmes</td>\n",
       "      <td>5213</td>\n",
       "      <td>8</td>\n",
       "      <td>652</td>\n",
       "      <td>48.6</td>\n",
       "      <td>4.8</td>\n",
       "      <td>25057</td>\n",
       "      <td>3000</td>\n",
       "      <td>...</td>\n",
       "      <td>2</td>\n",
       "      <td>2</td>\n",
       "      <td>2</td>\n",
       "      <td>1</td>\n",
       "      <td>0</td>\n",
       "      <td>5.000000</td>\n",
       "      <td>4.000000</td>\n",
       "      <td>2.500000</td>\n",
       "      <td>4.000000</td>\n",
       "      <td>2.500000</td>\n",
       "    </tr>\n",
       "    <tr>\n",
       "      <th>33654</th>\n",
       "      <td>95660</td>\n",
       "      <td>95570</td>\n",
       "      <td>Villaines-sous-Bois</td>\n",
       "      <td>764</td>\n",
       "      <td>2</td>\n",
       "      <td>382</td>\n",
       "      <td>54.1</td>\n",
       "      <td>4.3</td>\n",
       "      <td>27562</td>\n",
       "      <td>3258</td>\n",
       "      <td>...</td>\n",
       "      <td>0</td>\n",
       "      <td>1</td>\n",
       "      <td>1</td>\n",
       "      <td>0</td>\n",
       "      <td>0</td>\n",
       "      <td>5.000000</td>\n",
       "      <td>5.000000</td>\n",
       "      <td>4.500000</td>\n",
       "      <td>5.000000</td>\n",
       "      <td>3.500000</td>\n",
       "    </tr>\n",
       "    <tr>\n",
       "      <th>33657</th>\n",
       "      <td>95678</td>\n",
       "      <td>95840</td>\n",
       "      <td>Villiers-Adam</td>\n",
       "      <td>851</td>\n",
       "      <td>10</td>\n",
       "      <td>85</td>\n",
       "      <td>47.7</td>\n",
       "      <td>4.1</td>\n",
       "      <td>28405</td>\n",
       "      <td>3343</td>\n",
       "      <td>...</td>\n",
       "      <td>0</td>\n",
       "      <td>1</td>\n",
       "      <td>1</td>\n",
       "      <td>0</td>\n",
       "      <td>0</td>\n",
       "      <td>4.000000</td>\n",
       "      <td>4.000000</td>\n",
       "      <td>3.000000</td>\n",
       "      <td>4.000000</td>\n",
       "      <td>3.500000</td>\n",
       "    </tr>\n",
       "    <tr>\n",
       "      <th>33658</th>\n",
       "      <td>95680</td>\n",
       "      <td>95400</td>\n",
       "      <td>Villiers-le-Bel</td>\n",
       "      <td>27564</td>\n",
       "      <td>7</td>\n",
       "      <td>3938</td>\n",
       "      <td>43.9</td>\n",
       "      <td>9.6</td>\n",
       "      <td>14323</td>\n",
       "      <td>2449</td>\n",
       "      <td>...</td>\n",
       "      <td>9</td>\n",
       "      <td>12</td>\n",
       "      <td>12</td>\n",
       "      <td>5</td>\n",
       "      <td>2</td>\n",
       "      <td>1.800000</td>\n",
       "      <td>2.300000</td>\n",
       "      <td>3.600000</td>\n",
       "      <td>2.000000</td>\n",
       "      <td>3.000000</td>\n",
       "    </tr>\n",
       "  </tbody>\n",
       "</table>\n",
       "<p>28021 rows × 48 columns</p>\n",
       "</div>"
      ],
      "text/plain": [
       "       Insee  Code_postal                    Ville Nb_habitants Superficie  \\\n",
       "0       1001         1400  L'Abergement-Clémenciat          767         16   \n",
       "1       1002         1640    L'Abergement-de-Varey          241          9   \n",
       "6       1008         1500                 Ambutrix          747          5   \n",
       "7       1009         1300         Andert-et-Condon          342          7   \n",
       "8       1010         1350                Anglefort         1133         29   \n",
       "...      ...          ...                      ...          ...        ...   \n",
       "33650  95651        95780                 Vétheuil          839          4   \n",
       "33651  95652        95270                  Viarmes         5213          8   \n",
       "33654  95660        95570      Villaines-sous-Bois          764          2   \n",
       "33657  95678        95840            Villiers-Adam          851         10   \n",
       "33658  95680        95400          Villiers-le-Bel        27564          7   \n",
       "\n",
       "      Pop_densite Pop_active Taux_chomage Revenu_moyen Prix_moyen  ...  \\\n",
       "0              48         49          4.3        22228       1938  ...   \n",
       "1              27       50.6          4.1        22883       1130  ...   \n",
       "6             149       55.6          4.1        24389       1940  ...   \n",
       "7              49       45.9          3.5        23071        966  ...   \n",
       "8              39       48.4          4.7        22527       1970  ...   \n",
       "...           ...        ...          ...          ...        ...  ...   \n",
       "33650         210       47.1          4.1        22573       2426  ...   \n",
       "33651         652       48.6          4.8        25057       3000  ...   \n",
       "33654         382       54.1          4.3        27562       3258  ...   \n",
       "33657          85       47.7          4.1        28405       3343  ...   \n",
       "33658        3938       43.9          9.6        14323       2449  ...   \n",
       "\n",
       "       Pharmacie  Maternelle  Primaire  Collège  Lycée  Securite  Education  \\\n",
       "0              0           1         1        0      0  3.911086   3.558193   \n",
       "1              0           0         0        0      0  4.000943   2.858437   \n",
       "6              1           1         1        0      0  3.952892   3.527048   \n",
       "7              0           0         0        0      0  3.928057   3.135487   \n",
       "8              0           1         1        0      0  4.043286   3.561482   \n",
       "...          ...         ...       ...      ...    ...       ...        ...   \n",
       "33650          1           1         1        0      0  2.500000   3.000000   \n",
       "33651          2           2         2        1      0  5.000000   4.000000   \n",
       "33654          0           1         1        0      0  5.000000   5.000000   \n",
       "33657          0           1         1        0      0  4.000000   4.000000   \n",
       "33658          9          12        12        5      2  1.800000   2.300000   \n",
       "\n",
       "       Loisir / Sport  Environnement  Pratique  \n",
       "0            2.821216       3.887152  2.729014  \n",
       "1            2.041952       3.896197  2.057704  \n",
       "6            2.613205       3.845822  2.364580  \n",
       "7            2.560755       3.967928  2.642644  \n",
       "8            2.921106       3.858988  2.705384  \n",
       "...               ...            ...       ...  \n",
       "33650        3.000000       4.000000  3.000000  \n",
       "33651        2.500000       4.000000  2.500000  \n",
       "33654        4.500000       5.000000  3.500000  \n",
       "33657        3.000000       4.000000  3.500000  \n",
       "33658        3.600000       2.000000  3.000000  \n",
       "\n",
       "[28021 rows x 48 columns]"
      ]
     },
     "execution_count": 52,
     "metadata": {},
     "output_type": "execute_result"
    }
   ],
   "source": [
    "data_predict_final = data_without_mark.copy()\n",
    "\n",
    "labels = ['Securite', 'Education', 'Loisir / Sport', 'Environnement', 'Pratique']\n",
    "\n",
    "data_predict_final[labels] = status_without_global_predicted\n",
    "data_predict_final['Note_global'] = data_predict_final[labels].mean(axis=1)\n",
    "\n",
    "data_complete = pd.concat([data_predict_final, data_with_mark])\n",
    "\n",
    "data_complete"
   ]
  },
  {
   "cell_type": "code",
   "execution_count": 53,
   "id": "00385144-4214-464e-a968-b48c1948a224",
   "metadata": {},
   "outputs": [],
   "source": [
    "data_complete.to_csv('data_with_score_prediction.csv')"
   ]
  }
 ],
 "metadata": {
  "kernelspec": {
   "display_name": "Python 3 (ipykernel)",
   "language": "python",
   "name": "python3"
  },
  "language_info": {
   "codemirror_mode": {
    "name": "ipython",
    "version": 3
   },
   "file_extension": ".py",
   "mimetype": "text/x-python",
   "name": "python",
   "nbconvert_exporter": "python",
   "pygments_lexer": "ipython3",
   "version": "3.9.7"
  }
 },
 "nbformat": 4,
 "nbformat_minor": 5
}
